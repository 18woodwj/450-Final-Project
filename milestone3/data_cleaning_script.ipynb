{
  "cells": [
    {
      "cell_type": "code",
      "execution_count": null,
      "metadata": {
        "id": "6Y5gXIPNnVUZ"
      },
      "outputs": [],
      "source": [
        "import numpy as np\n",
        "import pandas as pd\n",
        "from google.colab import drive"
      ]
    },
    {
      "cell_type": "code",
      "execution_count": null,
      "metadata": {
        "colab": {
          "base_uri": "https://localhost:8080/"
        },
        "id": "LGu3cq4ln3Jb",
        "outputId": "5a2f2672-dc09-4f0c-af31-758f55815a5c"
      },
      "outputs": [
        {
          "name": "stdout",
          "output_type": "stream",
          "text": [
            "Mounted at /content/drive\n"
          ]
        }
      ],
      "source": [
        "prefix = '/content/drive'\n",
        "from google.colab import drive\n",
        "drive.mount(prefix, force_remount=True)"
      ]
    },
    {
      "cell_type": "code",
      "execution_count": null,
      "metadata": {
        "id": "plxHgbM7n4K2"
      },
      "outputs": [],
      "source": [
        "# https://www.kaggle.com/datasets/dhruvildave/spotify-charts\n",
        "charts_path = '/content/drive/My Drive/charts.csv'\n",
        "\n",
        "# https://www.kaggle.com/datasets/rodolfofigueroa/spotify-12m-songs\n",
        "tracks_path = '/content/drive/My Drive/tracks_features.csv'"
      ]
    },
    {
      "cell_type": "code",
      "execution_count": null,
      "metadata": {
        "id": "62dLQX1lomQl"
      },
      "outputs": [],
      "source": [
        "tracks_df = pd.read_csv(tracks_path)"
      ]
    },
    {
      "cell_type": "code",
      "execution_count": null,
      "metadata": {
        "id": "B2v0kMGhoOOO"
      },
      "outputs": [],
      "source": [
        "charts_df = pd.read_csv(charts_path)"
      ]
    },
    {
      "cell_type": "code",
      "execution_count": null,
      "metadata": {
        "colab": {
          "base_uri": "https://localhost:8080/"
        },
        "id": "yPr63I4mG4vO",
        "outputId": "072ed1d8-66b5-4bf6-eaa7-39bf374b9ea5"
      },
      "outputs": [
        {
          "name": "stderr",
          "output_type": "stream",
          "text": [
            "/usr/local/lib/python3.7/dist-packages/ipykernel_launcher.py:5: FutureWarning: The default value of regex will change from True to False in a future version.\n",
            "  \"\"\"\n"
          ]
        }
      ],
      "source": [
        "# filter by 2017\n",
        "tracks_df = tracks_df[tracks_df[\"year\"]>=2017]\n",
        "\n",
        "# get rid of array-like symbols\n",
        "tracks_df['artists'] = tracks_df['artists'].str.replace(\"', '\", \", \").str.replace(\"']\", \"\").str.replace(\"\\['\", \"\")\n",
        "\n",
        "# rename reserved keywords\n",
        "tracks_df.rename(columns={\"key\":\"song_key\"}, inplace=True)\n",
        "\n",
        "# convert explicit to 0 and 1 (F/T)\n",
        "tracks_df['explicit'] = tracks_df['explicit'].astype(int)\n",
        "\n",
        "# project only the needed columns\n",
        "projected_tracks_df = tracks_df[[\"id\", \"name\", \"artists\", \"album\", \"explicit\", \"danceability\",\n",
        "                                 \"energy\", \"key\", \"loudness\", \"speechiness\",\t\"acousticness\",\t\"instrumentalness\", \"liveness\",\t\"valence\",\n",
        "                                 \"tempo\", \"duration_ms\", \"year\"]]"
      ]
    },
    {
      "cell_type": "code",
      "execution_count": null,
      "metadata": {
        "id": "SBZwwKrWwReG"
      },
      "outputs": [],
      "source": [
        "# extract track id and drop url\n",
        "charts_df['song_id'] = charts_df['url'].str.slice(start=31)\n",
        "charts_df.drop('url', axis=1, inplace=True)\n",
        "\n",
        "#change dtype of date\n",
        "charts_df['date'] = pd.to_datetime(charts_df['date'])\n",
        "\n",
        "# rename reserved keywords\n",
        "charts_df.rename(columns={\"date\":\"chart_date\", \"rank\": \"song_rank\"}, inplace=True)\n",
        "\n",
        "# project only the needed columns\n",
        "projected_charts_df = charts_df[['rank', 'song_id', 'region', 'chart', 'trend', 'streams', 'date']]"
      ]
    },
    {
      "cell_type": "code",
      "execution_count": null,
      "metadata": {
        "colab": {
          "base_uri": "https://localhost:8080/",
          "height": 206
        },
        "id": "EVBEmy-MPGe9",
        "outputId": "9ab89c55-5597-4334-ea11-66430351c041"
      },
      "outputs": [
        {
          "data": {
            "text/html": [
              "\n",
              "  <div id=\"df-ab47b6e8-b00d-4ebd-b41b-0e925b50439b\">\n",
              "    <div class=\"colab-df-container\">\n",
              "      <div>\n",
              "<style scoped>\n",
              "    .dataframe tbody tr th:only-of-type {\n",
              "        vertical-align: middle;\n",
              "    }\n",
              "\n",
              "    .dataframe tbody tr th {\n",
              "        vertical-align: top;\n",
              "    }\n",
              "\n",
              "    .dataframe thead th {\n",
              "        text-align: right;\n",
              "    }\n",
              "</style>\n",
              "<table border=\"1\" class=\"dataframe\">\n",
              "  <thead>\n",
              "    <tr style=\"text-align: right;\">\n",
              "      <th></th>\n",
              "      <th>rank</th>\n",
              "      <th>song_id</th>\n",
              "      <th>region</th>\n",
              "      <th>chart</th>\n",
              "      <th>trend</th>\n",
              "      <th>streams</th>\n",
              "      <th>date</th>\n",
              "    </tr>\n",
              "  </thead>\n",
              "  <tbody>\n",
              "    <tr>\n",
              "      <th>0</th>\n",
              "      <td>1</td>\n",
              "      <td>6mICuAdrwEjh6Y6lroV2Kg</td>\n",
              "      <td>Argentina</td>\n",
              "      <td>top200</td>\n",
              "      <td>SAME_POSITION</td>\n",
              "      <td>253019.0</td>\n",
              "      <td>2017-01-01</td>\n",
              "    </tr>\n",
              "    <tr>\n",
              "      <th>1</th>\n",
              "      <td>2</td>\n",
              "      <td>7DM4BPaS7uofFul3ywMe46</td>\n",
              "      <td>Argentina</td>\n",
              "      <td>top200</td>\n",
              "      <td>MOVE_UP</td>\n",
              "      <td>223988.0</td>\n",
              "      <td>2017-01-01</td>\n",
              "    </tr>\n",
              "    <tr>\n",
              "      <th>2</th>\n",
              "      <td>3</td>\n",
              "      <td>3AEZUABDXNtecAOSC1qTfo</td>\n",
              "      <td>Argentina</td>\n",
              "      <td>top200</td>\n",
              "      <td>MOVE_DOWN</td>\n",
              "      <td>210943.0</td>\n",
              "      <td>2017-01-01</td>\n",
              "    </tr>\n",
              "    <tr>\n",
              "      <th>3</th>\n",
              "      <td>4</td>\n",
              "      <td>6rQSrBHf7HlZjtcMZ4S4bO</td>\n",
              "      <td>Argentina</td>\n",
              "      <td>top200</td>\n",
              "      <td>SAME_POSITION</td>\n",
              "      <td>173865.0</td>\n",
              "      <td>2017-01-01</td>\n",
              "    </tr>\n",
              "    <tr>\n",
              "      <th>4</th>\n",
              "      <td>5</td>\n",
              "      <td>58IL315gMSTD37DOZPJ2hf</td>\n",
              "      <td>Argentina</td>\n",
              "      <td>top200</td>\n",
              "      <td>MOVE_UP</td>\n",
              "      <td>153956.0</td>\n",
              "      <td>2017-01-01</td>\n",
              "    </tr>\n",
              "  </tbody>\n",
              "</table>\n",
              "</div>\n",
              "      <button class=\"colab-df-convert\" onclick=\"convertToInteractive('df-ab47b6e8-b00d-4ebd-b41b-0e925b50439b')\"\n",
              "              title=\"Convert this dataframe to an interactive table.\"\n",
              "              style=\"display:none;\">\n",
              "        \n",
              "  <svg xmlns=\"http://www.w3.org/2000/svg\" height=\"24px\"viewBox=\"0 0 24 24\"\n",
              "       width=\"24px\">\n",
              "    <path d=\"M0 0h24v24H0V0z\" fill=\"none\"/>\n",
              "    <path d=\"M18.56 5.44l.94 2.06.94-2.06 2.06-.94-2.06-.94-.94-2.06-.94 2.06-2.06.94zm-11 1L8.5 8.5l.94-2.06 2.06-.94-2.06-.94L8.5 2.5l-.94 2.06-2.06.94zm10 10l.94 2.06.94-2.06 2.06-.94-2.06-.94-.94-2.06-.94 2.06-2.06.94z\"/><path d=\"M17.41 7.96l-1.37-1.37c-.4-.4-.92-.59-1.43-.59-.52 0-1.04.2-1.43.59L10.3 9.45l-7.72 7.72c-.78.78-.78 2.05 0 2.83L4 21.41c.39.39.9.59 1.41.59.51 0 1.02-.2 1.41-.59l7.78-7.78 2.81-2.81c.8-.78.8-2.07 0-2.86zM5.41 20L4 18.59l7.72-7.72 1.47 1.35L5.41 20z\"/>\n",
              "  </svg>\n",
              "      </button>\n",
              "      \n",
              "  <style>\n",
              "    .colab-df-container {\n",
              "      display:flex;\n",
              "      flex-wrap:wrap;\n",
              "      gap: 12px;\n",
              "    }\n",
              "\n",
              "    .colab-df-convert {\n",
              "      background-color: #E8F0FE;\n",
              "      border: none;\n",
              "      border-radius: 50%;\n",
              "      cursor: pointer;\n",
              "      display: none;\n",
              "      fill: #1967D2;\n",
              "      height: 32px;\n",
              "      padding: 0 0 0 0;\n",
              "      width: 32px;\n",
              "    }\n",
              "\n",
              "    .colab-df-convert:hover {\n",
              "      background-color: #E2EBFA;\n",
              "      box-shadow: 0px 1px 2px rgba(60, 64, 67, 0.3), 0px 1px 3px 1px rgba(60, 64, 67, 0.15);\n",
              "      fill: #174EA6;\n",
              "    }\n",
              "\n",
              "    [theme=dark] .colab-df-convert {\n",
              "      background-color: #3B4455;\n",
              "      fill: #D2E3FC;\n",
              "    }\n",
              "\n",
              "    [theme=dark] .colab-df-convert:hover {\n",
              "      background-color: #434B5C;\n",
              "      box-shadow: 0px 1px 3px 1px rgba(0, 0, 0, 0.15);\n",
              "      filter: drop-shadow(0px 1px 2px rgba(0, 0, 0, 0.3));\n",
              "      fill: #FFFFFF;\n",
              "    }\n",
              "  </style>\n",
              "\n",
              "      <script>\n",
              "        const buttonEl =\n",
              "          document.querySelector('#df-ab47b6e8-b00d-4ebd-b41b-0e925b50439b button.colab-df-convert');\n",
              "        buttonEl.style.display =\n",
              "          google.colab.kernel.accessAllowed ? 'block' : 'none';\n",
              "\n",
              "        async function convertToInteractive(key) {\n",
              "          const element = document.querySelector('#df-ab47b6e8-b00d-4ebd-b41b-0e925b50439b');\n",
              "          const dataTable =\n",
              "            await google.colab.kernel.invokeFunction('convertToInteractive',\n",
              "                                                     [key], {});\n",
              "          if (!dataTable) return;\n",
              "\n",
              "          const docLinkHtml = 'Like what you see? Visit the ' +\n",
              "            '<a target=\"_blank\" href=https://colab.research.google.com/notebooks/data_table.ipynb>data table notebook</a>'\n",
              "            + ' to learn more about interactive tables.';\n",
              "          element.innerHTML = '';\n",
              "          dataTable['output_type'] = 'display_data';\n",
              "          await google.colab.output.renderOutput(dataTable, element);\n",
              "          const docLink = document.createElement('div');\n",
              "          docLink.innerHTML = docLinkHtml;\n",
              "          element.appendChild(docLink);\n",
              "        }\n",
              "      </script>\n",
              "    </div>\n",
              "  </div>\n",
              "  "
            ],
            "text/plain": [
              "   rank                 song_id     region   chart          trend   streams  \\\n",
              "0     1  6mICuAdrwEjh6Y6lroV2Kg  Argentina  top200  SAME_POSITION  253019.0   \n",
              "1     2  7DM4BPaS7uofFul3ywMe46  Argentina  top200        MOVE_UP  223988.0   \n",
              "2     3  3AEZUABDXNtecAOSC1qTfo  Argentina  top200      MOVE_DOWN  210943.0   \n",
              "3     4  6rQSrBHf7HlZjtcMZ4S4bO  Argentina  top200  SAME_POSITION  173865.0   \n",
              "4     5  58IL315gMSTD37DOZPJ2hf  Argentina  top200        MOVE_UP  153956.0   \n",
              "\n",
              "        date  \n",
              "0 2017-01-01  \n",
              "1 2017-01-01  \n",
              "2 2017-01-01  \n",
              "3 2017-01-01  \n",
              "4 2017-01-01  "
            ]
          },
          "execution_count": 77,
          "metadata": {},
          "output_type": "execute_result"
        }
      ],
      "source": [
        "projected_charts_df.head()"
      ]
    },
    {
      "cell_type": "code",
      "execution_count": null,
      "metadata": {
        "id": "ipSFaVTW3X7E"
      },
      "outputs": [],
      "source": [
        "projected_tracks_df.to_csv('projected_tracks5.csv', index=False)\n",
        "!cp projected_tracks5.csv \"drive/My Drive/\""
      ]
    },
    {
      "cell_type": "code",
      "execution_count": null,
      "metadata": {
        "id": "R5RFD9Yg3iyZ"
      },
      "outputs": [],
      "source": [
        "projected_charts_df.to_csv('projected_charts5.csv', index=False)\n",
        "!cp projected_charts5.csv \"drive/My Drive/\""
      ]
    },
    {
      "cell_type": "code",
      "execution_count": null,
      "metadata": {
        "id": "6pSeSzp0tRoG"
      },
      "outputs": [],
      "source": [
        "joined_df = projected_tracks_df.merge(projected_charts_df, left_on = 'id', right_on = 'song_id', how = \"inner\")"
      ]
    },
    {
      "cell_type": "code",
      "execution_count": null,
      "metadata": {
        "colab": {
          "base_uri": "https://localhost:8080/",
          "height": 461
        },
        "id": "-od0tq4XDT00",
        "outputId": "5a6016d4-4596-43f1-98f2-1a964b5e444e"
      },
      "outputs": [
        {
          "data": {
            "text/html": [
              "\n",
              "  <div id=\"df-b12f3a3f-4e96-4285-a03b-15933a8c7ceb\">\n",
              "    <div class=\"colab-df-container\">\n",
              "      <div>\n",
              "<style scoped>\n",
              "    .dataframe tbody tr th:only-of-type {\n",
              "        vertical-align: middle;\n",
              "    }\n",
              "\n",
              "    .dataframe tbody tr th {\n",
              "        vertical-align: top;\n",
              "    }\n",
              "\n",
              "    .dataframe thead th {\n",
              "        text-align: right;\n",
              "    }\n",
              "</style>\n",
              "<table border=\"1\" class=\"dataframe\">\n",
              "  <thead>\n",
              "    <tr style=\"text-align: right;\">\n",
              "      <th></th>\n",
              "      <th>id</th>\n",
              "      <th>name</th>\n",
              "      <th>album</th>\n",
              "      <th>explicit</th>\n",
              "      <th>danceability</th>\n",
              "      <th>energy</th>\n",
              "      <th>key</th>\n",
              "      <th>loudness</th>\n",
              "      <th>speechiness</th>\n",
              "      <th>acousticness</th>\n",
              "      <th>instrumentalness</th>\n",
              "      <th>liveness</th>\n",
              "      <th>valence</th>\n",
              "      <th>tempo</th>\n",
              "      <th>duration_ms</th>\n",
              "      <th>year</th>\n",
              "      <th>artist</th>\n",
              "    </tr>\n",
              "  </thead>\n",
              "  <tbody>\n",
              "    <tr>\n",
              "      <th>0</th>\n",
              "      <td>78XK5PDIKWiDKcgiLl1x0o</td>\n",
              "      <td>Still Disappointed</td>\n",
              "      <td>Still Disappointed</td>\n",
              "      <td>True</td>\n",
              "      <td>0.731</td>\n",
              "      <td>0.674</td>\n",
              "      <td>1</td>\n",
              "      <td>-6.986</td>\n",
              "      <td>0.2740</td>\n",
              "      <td>0.094300</td>\n",
              "      <td>0.000000</td>\n",
              "      <td>0.0807</td>\n",
              "      <td>0.701</td>\n",
              "      <td>139.916</td>\n",
              "      <td>165027</td>\n",
              "      <td>2020</td>\n",
              "      <td>Stormzy</td>\n",
              "    </tr>\n",
              "    <tr>\n",
              "      <th>123</th>\n",
              "      <td>6hkr5ZGVOt3Z2BNGE6yqpB</td>\n",
              "      <td>Lola</td>\n",
              "      <td>Lola</td>\n",
              "      <td>True</td>\n",
              "      <td>0.774</td>\n",
              "      <td>0.573</td>\n",
              "      <td>10</td>\n",
              "      <td>-9.098</td>\n",
              "      <td>0.1400</td>\n",
              "      <td>0.013200</td>\n",
              "      <td>0.000000</td>\n",
              "      <td>0.1450</td>\n",
              "      <td>0.400</td>\n",
              "      <td>141.885</td>\n",
              "      <td>232123</td>\n",
              "      <td>2019</td>\n",
              "      <td>Iggy Azalea, Alice Chater</td>\n",
              "    </tr>\n",
              "    <tr>\n",
              "      <th>126</th>\n",
              "      <td>471HeGJPKw07MObixON0Um</td>\n",
              "      <td>Tabú</td>\n",
              "      <td>Tabú</td>\n",
              "      <td>False</td>\n",
              "      <td>0.748</td>\n",
              "      <td>0.808</td>\n",
              "      <td>9</td>\n",
              "      <td>-5.943</td>\n",
              "      <td>0.0619</td>\n",
              "      <td>0.036600</td>\n",
              "      <td>0.000037</td>\n",
              "      <td>0.1100</td>\n",
              "      <td>0.553</td>\n",
              "      <td>99.997</td>\n",
              "      <td>179775</td>\n",
              "      <td>2019</td>\n",
              "      <td>Pablo Alborán, Ava Max</td>\n",
              "    </tr>\n",
              "    <tr>\n",
              "      <th>511</th>\n",
              "      <td>3yhhv0VCmKkAWD9ysDLpTE</td>\n",
              "      <td>Shots Fired</td>\n",
              "      <td>Good News</td>\n",
              "      <td>True</td>\n",
              "      <td>0.826</td>\n",
              "      <td>0.655</td>\n",
              "      <td>2</td>\n",
              "      <td>-4.775</td>\n",
              "      <td>0.3000</td>\n",
              "      <td>0.000761</td>\n",
              "      <td>0.000000</td>\n",
              "      <td>0.0841</td>\n",
              "      <td>0.450</td>\n",
              "      <td>184.057</td>\n",
              "      <td>170871</td>\n",
              "      <td>2020</td>\n",
              "      <td>Megan Thee Stallion</td>\n",
              "    </tr>\n",
              "    <tr>\n",
              "      <th>517</th>\n",
              "      <td>08TILUAN56HJoS1d9mNRty</td>\n",
              "      <td>Circles</td>\n",
              "      <td>Good News</td>\n",
              "      <td>True</td>\n",
              "      <td>0.842</td>\n",
              "      <td>0.789</td>\n",
              "      <td>6</td>\n",
              "      <td>-8.733</td>\n",
              "      <td>0.1780</td>\n",
              "      <td>0.026500</td>\n",
              "      <td>0.000000</td>\n",
              "      <td>0.3550</td>\n",
              "      <td>0.795</td>\n",
              "      <td>111.113</td>\n",
              "      <td>170641</td>\n",
              "      <td>2020</td>\n",
              "      <td>Megan Thee Stallion</td>\n",
              "    </tr>\n",
              "  </tbody>\n",
              "</table>\n",
              "</div>\n",
              "      <button class=\"colab-df-convert\" onclick=\"convertToInteractive('df-b12f3a3f-4e96-4285-a03b-15933a8c7ceb')\"\n",
              "              title=\"Convert this dataframe to an interactive table.\"\n",
              "              style=\"display:none;\">\n",
              "        \n",
              "  <svg xmlns=\"http://www.w3.org/2000/svg\" height=\"24px\"viewBox=\"0 0 24 24\"\n",
              "       width=\"24px\">\n",
              "    <path d=\"M0 0h24v24H0V0z\" fill=\"none\"/>\n",
              "    <path d=\"M18.56 5.44l.94 2.06.94-2.06 2.06-.94-2.06-.94-.94-2.06-.94 2.06-2.06.94zm-11 1L8.5 8.5l.94-2.06 2.06-.94-2.06-.94L8.5 2.5l-.94 2.06-2.06.94zm10 10l.94 2.06.94-2.06 2.06-.94-2.06-.94-.94-2.06-.94 2.06-2.06.94z\"/><path d=\"M17.41 7.96l-1.37-1.37c-.4-.4-.92-.59-1.43-.59-.52 0-1.04.2-1.43.59L10.3 9.45l-7.72 7.72c-.78.78-.78 2.05 0 2.83L4 21.41c.39.39.9.59 1.41.59.51 0 1.02-.2 1.41-.59l7.78-7.78 2.81-2.81c.8-.78.8-2.07 0-2.86zM5.41 20L4 18.59l7.72-7.72 1.47 1.35L5.41 20z\"/>\n",
              "  </svg>\n",
              "      </button>\n",
              "      \n",
              "  <style>\n",
              "    .colab-df-container {\n",
              "      display:flex;\n",
              "      flex-wrap:wrap;\n",
              "      gap: 12px;\n",
              "    }\n",
              "\n",
              "    .colab-df-convert {\n",
              "      background-color: #E8F0FE;\n",
              "      border: none;\n",
              "      border-radius: 50%;\n",
              "      cursor: pointer;\n",
              "      display: none;\n",
              "      fill: #1967D2;\n",
              "      height: 32px;\n",
              "      padding: 0 0 0 0;\n",
              "      width: 32px;\n",
              "    }\n",
              "\n",
              "    .colab-df-convert:hover {\n",
              "      background-color: #E2EBFA;\n",
              "      box-shadow: 0px 1px 2px rgba(60, 64, 67, 0.3), 0px 1px 3px 1px rgba(60, 64, 67, 0.15);\n",
              "      fill: #174EA6;\n",
              "    }\n",
              "\n",
              "    [theme=dark] .colab-df-convert {\n",
              "      background-color: #3B4455;\n",
              "      fill: #D2E3FC;\n",
              "    }\n",
              "\n",
              "    [theme=dark] .colab-df-convert:hover {\n",
              "      background-color: #434B5C;\n",
              "      box-shadow: 0px 1px 3px 1px rgba(0, 0, 0, 0.15);\n",
              "      filter: drop-shadow(0px 1px 2px rgba(0, 0, 0, 0.3));\n",
              "      fill: #FFFFFF;\n",
              "    }\n",
              "  </style>\n",
              "\n",
              "      <script>\n",
              "        const buttonEl =\n",
              "          document.querySelector('#df-b12f3a3f-4e96-4285-a03b-15933a8c7ceb button.colab-df-convert');\n",
              "        buttonEl.style.display =\n",
              "          google.colab.kernel.accessAllowed ? 'block' : 'none';\n",
              "\n",
              "        async function convertToInteractive(key) {\n",
              "          const element = document.querySelector('#df-b12f3a3f-4e96-4285-a03b-15933a8c7ceb');\n",
              "          const dataTable =\n",
              "            await google.colab.kernel.invokeFunction('convertToInteractive',\n",
              "                                                     [key], {});\n",
              "          if (!dataTable) return;\n",
              "\n",
              "          const docLinkHtml = 'Like what you see? Visit the ' +\n",
              "            '<a target=\"_blank\" href=https://colab.research.google.com/notebooks/data_table.ipynb>data table notebook</a>'\n",
              "            + ' to learn more about interactive tables.';\n",
              "          element.innerHTML = '';\n",
              "          dataTable['output_type'] = 'display_data';\n",
              "          await google.colab.output.renderOutput(dataTable, element);\n",
              "          const docLink = document.createElement('div');\n",
              "          docLink.innerHTML = docLinkHtml;\n",
              "          element.appendChild(docLink);\n",
              "        }\n",
              "      </script>\n",
              "    </div>\n",
              "  </div>\n",
              "  "
            ],
            "text/plain": [
              "                         id                name               album  explicit  \\\n",
              "0    78XK5PDIKWiDKcgiLl1x0o  Still Disappointed  Still Disappointed      True   \n",
              "123  6hkr5ZGVOt3Z2BNGE6yqpB                Lola                Lola      True   \n",
              "126  471HeGJPKw07MObixON0Um                Tabú                Tabú     False   \n",
              "511  3yhhv0VCmKkAWD9ysDLpTE         Shots Fired           Good News      True   \n",
              "517  08TILUAN56HJoS1d9mNRty             Circles           Good News      True   \n",
              "\n",
              "     danceability  energy  key  loudness  speechiness  acousticness  \\\n",
              "0           0.731   0.674    1    -6.986       0.2740      0.094300   \n",
              "123         0.774   0.573   10    -9.098       0.1400      0.013200   \n",
              "126         0.748   0.808    9    -5.943       0.0619      0.036600   \n",
              "511         0.826   0.655    2    -4.775       0.3000      0.000761   \n",
              "517         0.842   0.789    6    -8.733       0.1780      0.026500   \n",
              "\n",
              "     instrumentalness  liveness  valence    tempo  duration_ms  year  \\\n",
              "0            0.000000    0.0807    0.701  139.916       165027  2020   \n",
              "123          0.000000    0.1450    0.400  141.885       232123  2019   \n",
              "126          0.000037    0.1100    0.553   99.997       179775  2019   \n",
              "511          0.000000    0.0841    0.450  184.057       170871  2020   \n",
              "517          0.000000    0.3550    0.795  111.113       170641  2020   \n",
              "\n",
              "                        artist  \n",
              "0                      Stormzy  \n",
              "123  Iggy Azalea, Alice Chater  \n",
              "126     Pablo Alborán, Ava Max  \n",
              "511        Megan Thee Stallion  \n",
              "517        Megan Thee Stallion  "
            ]
          },
          "execution_count": 25,
          "metadata": {},
          "output_type": "execute_result"
        }
      ],
      "source": [
        "joined_df.head(5)"
      ]
    },
    {
      "cell_type": "code",
      "execution_count": null,
      "metadata": {
        "colab": {
          "base_uri": "https://localhost:8080/"
        },
        "id": "vhxbuVqcGAA4",
        "outputId": "10b72a98-7e88-40ad-cbcf-329fb12fd91b"
      },
      "outputs": [
        {
          "data": {
            "text/plain": [
              "7233"
            ]
          },
          "execution_count": 27,
          "metadata": {},
          "output_type": "execute_result"
        }
      ],
      "source": [
        "joined_df.shape[0]"
      ]
    }
  ],
  "metadata": {
    "colab": {
      "provenance": []
    },
    "kernelspec": {
      "display_name": "Python 3.10.6 64-bit",
      "language": "python",
      "name": "python3"
    },
    "language_info": {
      "name": "python",
      "version": "3.10.6"
    },
    "vscode": {
      "interpreter": {
        "hash": "aee8b7b246df8f9039afb4144a1f6fd8d2ca17a180786b69acc140d282b71a49"
      }
    }
  },
  "nbformat": 4,
  "nbformat_minor": 0
}
